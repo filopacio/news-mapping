{
 "cells": [
  {
   "cell_type": "code",
   "metadata": {
    "collapsed": true,
    "ExecuteTime": {
     "end_time": "2024-09-19T15:32:56.316573Z",
     "start_time": "2024-09-19T15:32:56.310598Z"
    }
   },
   "source": [
    "import pandas as pd\n",
    "from groq import Groq\n",
    "from pathlib import Path\n",
    "from dotenv import get_variables\n",
    "from graph.graph import ArticleGraph\n",
    "from config.config import read_yaml_file\n",
    "from data.scraper import google_news_articles, scrape_url\n",
    "from data.wrangler import obtain_topics_and_person, summarize_text\n",
    "from text_analysis.utils import contains_any_word, if_contains_assign, evaluate_string, extract_inside_braces"
   ],
   "outputs": [],
   "execution_count": 13
  },
  {
   "cell_type": "code",
   "source": [
    "SOURCE_DIR = Path.cwd().parent\n",
    "SERPAPI_KEY = get_variables(SOURCE_DIR /'.env')['SERPAPI_KEY']\n",
    "GROQ_API_KEY = get_variables(SOURCE_DIR /'.env')['GROQ_API_KEY']\n",
    "sources = read_yaml_file(SOURCE_DIR / \"config/config_scraper.yaml\")['sources']\n",
    "topics = read_yaml_file(SOURCE_DIR / \"config/config_scraper.yaml\")['topics']\n",
    "scrape_new_data = False\n",
    "graph_config_path = SOURCE_DIR / \"config/config_graph.json\""
   ],
   "metadata": {
    "collapsed": false,
    "ExecuteTime": {
     "end_time": "2024-09-19T15:33:14.729172Z",
     "start_time": "2024-09-19T15:33:14.717723Z"
    }
   },
   "outputs": [],
   "execution_count": 16
  },
  {
   "cell_type": "code",
   "source": [
    "master_table = pd.read_csv(SOURCE_DIR / \"datasets/elezioni_europee.csv\")\n",
    "master_table['source'] = master_table['source'].apply(eval)"
   ],
   "metadata": {
    "collapsed": false,
    "ExecuteTime": {
     "end_time": "2024-09-19T15:33:16.861225Z",
     "start_time": "2024-09-19T15:33:16.781083Z"
    }
   },
   "outputs": [],
   "execution_count": 17
  },
  {
   "metadata": {
    "ExecuteTime": {
     "end_time": "2024-09-19T15:43:24.370834Z",
     "start_time": "2024-09-19T15:43:24.362403Z"
    }
   },
   "cell_type": "code",
   "source": [
    "keywords = ['Repubblica',\n",
    " 'Corriere',\n",
    " 'Foglio',\n",
    " 'Giornale',\n",
    " 'Carlino',\n",
    " 'Stampa',\n",
    " 'Quotidiano',\n",
    " 'Sole',\n",
    " 'Avvenire',\n",
    " 'Mattino',\n",
    " 'Messaggero',\n",
    " 'Unitá',\n",
    " 'Nazione',\n",
    " 'Manifesto',\n",
    " 'Nazionale',\n",
    " 'Pagella']"
   ],
   "outputs": [],
   "execution_count": 20
  },
  {
   "cell_type": "code",
   "source": [
    "if scrape_new_data:\n",
    "    df = pd.DataFrame()\n",
    "    for s in sources:\n",
    "        df_t = google_news_articles(api_key=SERPAPI_KEY,\n",
    "                                    keywords=f\"{s} elezioni europee\")\n",
    "        df = pd.concat([df, df_t]).reset_index(drop=True)\n",
    "\n",
    "    df = pd.concat([master_table, df]).drop_duplicates(subset='title').reset_index(drop=True)\n",
    "    df.to_csv(SOURCE_DIR / \"datasets/elezioni_europee.csv\", index=False)\n",
    "\n",
    "    df_tot = df[['title', 'source', 'link', 'date']]\n",
    "    df_tot['source'] = df_tot['source'].apply(lambda x: x['name'])\n",
    "    df_tot = df_tot[df_tot['source'].apply(contains_any_word, words=sources)].reset_index(drop=True)\n",
    "    df_tot['source'] = df_tot['source'].apply(lambda row: if_contains_assign(row=row, words=sources, keywords=keywords))\n",
    "    df_tot['text'] = df_tot['link'].apply(lambda url: scrape_url(url=url, clean_with_genai=False))\n",
    "    df_tot['text_summary'] = df_tot['text'].apply(lambda text: summarize_text(text=text, api_key=GROQ_API_KEY))\n",
    "\n",
    "else:\n",
    "    df = master_table"
   ],
   "metadata": {
    "collapsed": false,
    "ExecuteTime": {
     "end_time": "2024-09-19T17:06:23.677742Z",
     "start_time": "2024-09-19T15:43:26.521179Z"
    }
   },
   "outputs": [
    {
     "name": "stderr",
     "output_type": "stream",
     "text": [
      "/var/folders/7s/140yb8x92wj3r5nt6klj8k7w0000gn/T/ipykernel_27449/1838063047.py:12: SettingWithCopyWarning: \n",
      "A value is trying to be set on a copy of a slice from a DataFrame.\n",
      "Try using .loc[row_indexer,col_indexer] = value instead\n",
      "\n",
      "See the caveats in the documentation: https://pandas.pydata.org/pandas-docs/stable/user_guide/indexing.html#returning-a-view-versus-a-copy\n",
      "  df_tot['source'] = df_tot['source'].apply(lambda x: x['name'])\n"
     ]
    }
   ],
   "execution_count": 21
  },
  {
   "cell_type": "code",
   "source": [
    "keywords = ['Repubblica',\n",
    " 'Corriere',\n",
    " 'Foglio',\n",
    " 'Giornale',\n",
    " 'Carlino',\n",
    " 'Stampa',\n",
    " 'Quotidiano',\n",
    " 'Sole',\n",
    " 'Avvenire',\n",
    " 'Mattino',\n",
    " 'Messaggero',\n",
    " 'Unitá',\n",
    " 'Nazione',\n",
    " 'Manifesto',\n",
    " 'Nazionale',\n",
    " 'Pagella']"
   ],
   "metadata": {
    "collapsed": false,
    "ExecuteTime": {
     "end_time": "2024-09-19T15:43:15.335294Z",
     "start_time": "2024-09-19T11:22:29.153277Z"
    }
   },
   "outputs": [],
   "execution_count": 5
  },
  {
   "cell_type": "code",
   "source": [
    "df_tot = df[['title', 'source', 'link', 'date']]\n",
    "df_tot['source'] = df_tot['source'].apply(lambda x: x['name'])\n",
    "df_tot['source'] = df_tot['source'].apply(lambda row: if_contains_assign(row=row,\n",
    "                                                                         words=sources,\n",
    "                                                                         keywords=keywords))\n",
    "df_tot = df_tot.dropna(subset='source')"
   ],
   "metadata": {
    "collapsed": false,
    "ExecuteTime": {
     "end_time": "2024-09-19T17:06:42.255420Z",
     "start_time": "2024-09-19T17:06:42.150023Z"
    }
   },
   "outputs": [
    {
     "name": "stderr",
     "output_type": "stream",
     "text": [
      "/var/folders/7s/140yb8x92wj3r5nt6klj8k7w0000gn/T/ipykernel_27449/2672331206.py:2: SettingWithCopyWarning: \n",
      "A value is trying to be set on a copy of a slice from a DataFrame.\n",
      "Try using .loc[row_indexer,col_indexer] = value instead\n",
      "\n",
      "See the caveats in the documentation: https://pandas.pydata.org/pandas-docs/stable/user_guide/indexing.html#returning-a-view-versus-a-copy\n",
      "  df_tot['source'] = df_tot['source'].apply(lambda x: x['name'])\n",
      "/var/folders/7s/140yb8x92wj3r5nt6klj8k7w0000gn/T/ipykernel_27449/2672331206.py:3: SettingWithCopyWarning: \n",
      "A value is trying to be set on a copy of a slice from a DataFrame.\n",
      "Try using .loc[row_indexer,col_indexer] = value instead\n",
      "\n",
      "See the caveats in the documentation: https://pandas.pydata.org/pandas-docs/stable/user_guide/indexing.html#returning-a-view-versus-a-copy\n",
      "  df_tot['source'] = df_tot['source'].apply(lambda row: if_contains_assign(row=row,\n"
     ]
    }
   ],
   "execution_count": 22
  },
  {
   "metadata": {
    "ExecuteTime": {
     "end_time": "2024-09-19T17:06:42.644460Z",
     "start_time": "2024-09-19T17:06:42.614122Z"
    }
   },
   "cell_type": "code",
   "source": [
    "df_tot['date'] = pd.to_datetime(df_tot['date'].apply(lambda x: x.split(',')[0]), format='%m/%d/%Y')\n",
    "start_date = '2024-05-15'\n",
    "end_date = '2024-06-09'\n",
    "df_tot = df_tot[(df_tot['date'] >= pd.to_datetime(start_date)) & (df_tot['date'] <= end_date)]"
   ],
   "outputs": [],
   "execution_count": 23
  },
  {
   "cell_type": "code",
   "source": [
    "print('Scraping URLs')\n",
    "df_tot['text'] = df_tot['link'].apply(lambda url: scrape_url(url=url, clean_with_genai=False))\n",
    "print('Summarizing texts')\n",
    "df_tot = df_tot[df_tot['text'].astype(str).apply(len) < 15000].reset_index(drop=True)\n",
    "df_tot['text_summary'] = df_tot['text'].apply(lambda text: summarize_text(text=text,\n",
    "                                                                          api_key=GROQ_API_KEY,\n",
    "                                                                          model=\"llama3-70b-8192\"))\n",
    "print('Extracting Topics & Person')\n",
    "df_tot['topics_person'] = df_tot['text_summary'].apply(lambda text: obtain_topics_and_person(text=text,\n",
    "                                                                                     api_key=GROQ_API_KEY,\n",
    "                                                                                     topics_to_scrape=topics,\n",
    "                                                                                     model=\"llama3-70b-8192\"))"
   ],
   "metadata": {
    "collapsed": false,
    "ExecuteTime": {
     "end_time": "2024-09-19T21:29:31.173376Z",
     "start_time": "2024-09-19T17:40:41.734953Z"
    }
   },
   "outputs": [
    {
     "name": "stdout",
     "output_type": "stream",
     "text": [
      "Scraping URLs\n",
      "Request not successful\n",
      "Summarizing texts\n",
      "Extracting Topics & Person\n"
     ]
    }
   ],
   "execution_count": 26
  },
  {
   "cell_type": "code",
   "source": [
    "df_tot.to_csv(SOURCE_DIR / \"datasets/elezioni_europee_intermediate.csv\", index=False)"
   ],
   "metadata": {
    "collapsed": false,
    "ExecuteTime": {
     "end_time": "2024-09-19T21:29:31.456037Z",
     "start_time": "2024-09-19T21:29:31.333668Z"
    }
   },
   "outputs": [],
   "execution_count": 27
  },
  {
   "cell_type": "code",
   "source": [
    "df_tot['topics_person'] = df_tot['topics_person'].apply(extract_inside_braces).apply(evaluate_string)"
   ],
   "metadata": {
    "collapsed": false,
    "ExecuteTime": {
     "end_time": "2024-09-19T21:29:31.876148Z",
     "start_time": "2024-09-19T21:29:31.857841Z"
    }
   },
   "outputs": [
    {
     "name": "stdout",
     "output_type": "stream",
     "text": [
      "Error evaluating expression 'None': eval() arg 1 must be a string, bytes or code object\n",
      "Error evaluating expression 'None': eval() arg 1 must be a string, bytes or code object\n",
      "Error evaluating expression 'None': eval() arg 1 must be a string, bytes or code object\n"
     ]
    }
   ],
   "execution_count": 28
  },
  {
   "metadata": {
    "ExecuteTime": {
     "end_time": "2024-09-19T21:29:32.300024Z",
     "start_time": "2024-09-19T21:29:32.210922Z"
    }
   },
   "cell_type": "code",
   "source": "df_tot.to_csv(SOURCE_DIR / \"datasets/elezioni_europee_intermediate.csv\", index=False)",
   "outputs": [],
   "execution_count": 29
  },
  {
   "metadata": {
    "ExecuteTime": {
     "end_time": "2024-09-19T17:38:49.009589Z",
     "start_time": "2024-09-17T21:48:36.906919Z"
    }
   },
   "cell_type": "code",
   "source": "df_tot.head()",
   "outputs": [
    {
     "data": {
      "text/plain": [
       "                                               title         source  \\\n",
       "0  Test sui partiti in lizza alle elezioni europe...  La Repubblica   \n",
       "1  Europee, sette i candidati \"impresentabili\" pe...  La Repubblica   \n",
       "2  Europee, lo sfottò di Calenda al 'tappo' di Sa...  La Repubblica   \n",
       "3  Verso le elezioni europee. Meloni vuole azzera...  La Repubblica   \n",
       "4  Liliana Segre sulle elezioni Europee: “L’esito...  La Repubblica   \n",
       "\n",
       "                                                link       date  \\\n",
       "0  https://www.repubblica.it/politica/2024/05/29/... 2024-05-29   \n",
       "1  https://www.repubblica.it/politica/2024/05/28/... 2024-05-28   \n",
       "2  https://video.repubblica.it/dossier/video-elez... 2024-05-27   \n",
       "3  https://www.repubblica.it/economia/rubriche/ou... 2024-05-28   \n",
       "4  https://milano.repubblica.it/cronaca/2024/05/2... 2024-05-28   \n",
       "\n",
       "                                                text  \\\n",
       "0  Partiti elezioni europee 2024: il test per sco...   \n",
       "1  Europee, sette i candidati \"impresentabili\" pe...   \n",
       "2  Europee, lo sfottò di Calenda al \"tappo\" di Sa...   \n",
       "3  Verso le elezioni europee. Meloni vuole azzera...   \n",
       "4  Liliana Segre sulle elezioni Europee: âLâe...   \n",
       "\n",
       "                                        text_summary  \\\n",
       "0  Italy will hold elections for the European Par...   \n",
       "1  Seven Italian politicians have been designated...   \n",
       "2  Carlo Calenda, a well-known Italian politician...   \n",
       "3  Giorgia Meloni, leader of Fratelli d'Italia, i...   \n",
       "4  Senatrice a vita Liliana Segre is worried abou...   \n",
       "\n",
       "                                       topics_person  \n",
       "0   {'topic': 'politiche elettorali', 'persons': []}  \n",
       "1  {'topic': 'Criminalità e Sicurezza Pubblica', ...  \n",
       "2  {'topic': 'Tensioni tra politici', 'persons': ...  \n",
       "3  {'topic': 'Politiche Ambientali', 'persons': [...  \n",
       "4        {'topic': '', 'persons': ['Liliana Segre']}  "
      ],
      "text/html": [
       "<div>\n",
       "<style scoped>\n",
       "    .dataframe tbody tr th:only-of-type {\n",
       "        vertical-align: middle;\n",
       "    }\n",
       "\n",
       "    .dataframe tbody tr th {\n",
       "        vertical-align: top;\n",
       "    }\n",
       "\n",
       "    .dataframe thead th {\n",
       "        text-align: right;\n",
       "    }\n",
       "</style>\n",
       "<table border=\"1\" class=\"dataframe\">\n",
       "  <thead>\n",
       "    <tr style=\"text-align: right;\">\n",
       "      <th></th>\n",
       "      <th>title</th>\n",
       "      <th>source</th>\n",
       "      <th>link</th>\n",
       "      <th>date</th>\n",
       "      <th>text</th>\n",
       "      <th>text_summary</th>\n",
       "      <th>topics_person</th>\n",
       "    </tr>\n",
       "  </thead>\n",
       "  <tbody>\n",
       "    <tr>\n",
       "      <th>0</th>\n",
       "      <td>Test sui partiti in lizza alle elezioni europe...</td>\n",
       "      <td>La Repubblica</td>\n",
       "      <td>https://www.repubblica.it/politica/2024/05/29/...</td>\n",
       "      <td>2024-05-29</td>\n",
       "      <td>Partiti elezioni europee 2024: il test per sco...</td>\n",
       "      <td>Italy will hold elections for the European Par...</td>\n",
       "      <td>{'topic': 'politiche elettorali', 'persons': []}</td>\n",
       "    </tr>\n",
       "    <tr>\n",
       "      <th>1</th>\n",
       "      <td>Europee, sette i candidati \"impresentabili\" pe...</td>\n",
       "      <td>La Repubblica</td>\n",
       "      <td>https://www.repubblica.it/politica/2024/05/28/...</td>\n",
       "      <td>2024-05-28</td>\n",
       "      <td>Europee, sette i candidati \"impresentabili\" pe...</td>\n",
       "      <td>Seven Italian politicians have been designated...</td>\n",
       "      <td>{'topic': 'Criminalità e Sicurezza Pubblica', ...</td>\n",
       "    </tr>\n",
       "    <tr>\n",
       "      <th>2</th>\n",
       "      <td>Europee, lo sfottò di Calenda al 'tappo' di Sa...</td>\n",
       "      <td>La Repubblica</td>\n",
       "      <td>https://video.repubblica.it/dossier/video-elez...</td>\n",
       "      <td>2024-05-27</td>\n",
       "      <td>Europee, lo sfottò di Calenda al \"tappo\" di Sa...</td>\n",
       "      <td>Carlo Calenda, a well-known Italian politician...</td>\n",
       "      <td>{'topic': 'Tensioni tra politici', 'persons': ...</td>\n",
       "    </tr>\n",
       "    <tr>\n",
       "      <th>3</th>\n",
       "      <td>Verso le elezioni europee. Meloni vuole azzera...</td>\n",
       "      <td>La Repubblica</td>\n",
       "      <td>https://www.repubblica.it/economia/rubriche/ou...</td>\n",
       "      <td>2024-05-28</td>\n",
       "      <td>Verso le elezioni europee. Meloni vuole azzera...</td>\n",
       "      <td>Giorgia Meloni, leader of Fratelli d'Italia, i...</td>\n",
       "      <td>{'topic': 'Politiche Ambientali', 'persons': [...</td>\n",
       "    </tr>\n",
       "    <tr>\n",
       "      <th>4</th>\n",
       "      <td>Liliana Segre sulle elezioni Europee: “L’esito...</td>\n",
       "      <td>La Repubblica</td>\n",
       "      <td>https://milano.repubblica.it/cronaca/2024/05/2...</td>\n",
       "      <td>2024-05-28</td>\n",
       "      <td>Liliana Segre sulle elezioni Europee: âLâe...</td>\n",
       "      <td>Senatrice a vita Liliana Segre is worried abou...</td>\n",
       "      <td>{'topic': '', 'persons': ['Liliana Segre']}</td>\n",
       "    </tr>\n",
       "  </tbody>\n",
       "</table>\n",
       "</div>"
      ]
     },
     "execution_count": 28,
     "metadata": {},
     "output_type": "execute_result"
    }
   ],
   "execution_count": 28
  },
  {
   "cell_type": "code",
   "execution_count": null,
   "outputs": [],
   "source": [
    "df_tot = df_tot[df_tot.topics_person != {}]"
   ],
   "metadata": {
    "collapsed": false,
    "ExecuteTime": {
     "start_time": "2024-07-13T11:56:38.525366Z"
    }
   }
  },
  {
   "cell_type": "code",
   "execution_count": null,
   "outputs": [],
   "source": [
    "df_tot['topic'] = df_tot['topics_person'].apply(lambda x: x['topic'])\n",
    "df_tot['person'] = df_tot['topics_person'].apply(lambda x: x['persons'])"
   ],
   "metadata": {
    "collapsed": false
   }
  },
  {
   "cell_type": "code",
   "execution_count": null,
   "outputs": [],
   "source": [
    "df_tot = df_tot.reset_index(drop=True)"
   ],
   "metadata": {
    "collapsed": false
   }
  },
  {
   "cell_type": "code",
   "execution_count": null,
   "outputs": [],
   "source": [
    "df_tot = df_tot.explode('person')"
   ],
   "metadata": {
    "collapsed": false
   }
  },
  {
   "cell_type": "code",
   "execution_count": null,
   "outputs": [],
   "source": [
    "df_tot['newspaper'] = df_tot['source']"
   ],
   "metadata": {
    "collapsed": false
   }
  },
  {
   "cell_type": "code",
   "execution_count": null,
   "outputs": [],
   "source": [
    "df_tot.to_csv(SOURCE_DIR / \"datasets/elezioni_europee_intermediate2.csv\", index=False)"
   ],
   "metadata": {
    "collapsed": false
   }
  },
  {
   "cell_type": "code",
   "execution_count": 87,
   "outputs": [],
   "source": [
    "graph = ArticleGraph(df_tot, graph_config_path)"
   ],
   "metadata": {
    "collapsed": false,
    "ExecuteTime": {
     "end_time": "2024-07-13T11:08:24.777867Z",
     "start_time": "2024-07-13T11:08:24.770407Z"
    }
   }
  },
  {
   "cell_type": "code",
   "execution_count": 44,
   "outputs": [
    {
     "data": {
      "text/plain": "                                                  title            source  \\\n0     Test sui partiti in lizza alle elezioni europe...     La Repubblica   \n1     Europee, sette i candidati \"impresentabili\" pe...     La Repubblica   \n2     Europee, lo sfottò di Calenda al 'tappo' di Sa...     La Repubblica   \n3     Verso le elezioni europee. Meloni vuole azzera...     La Repubblica   \n4     Liliana Segre sulle elezioni Europee: “L’esito...     La Repubblica   \n...                                                 ...               ...   \n1286           Guida alle elezioni regionali in Abruzzo  Pagella Politica   \n1287        Guida alle elezioni regionali in Basilicata  Pagella Politica   \n1288  A Cagliari il centrodestra cerca la rivincita ...  Pagella Politica   \n1289  Renzi deve scegliere tra l’Arabia Saudita e il...  Pagella Politica   \n1290       Il fact-checking di Giorgia Meloni al TG La7  Pagella Politica   \n\n                                                   link  \\\n0     https://www.repubblica.it/politica/2024/05/29/...   \n1     https://www.repubblica.it/politica/2024/05/28/...   \n2     https://video.repubblica.it/dossier/video-elez...   \n3     https://www.repubblica.it/economia/rubriche/ou...   \n4     https://milano.repubblica.it/cronaca/2024/05/2...   \n...                                                 ...   \n1286  https://pagellapolitica.it/articoli/guida-elez...   \n1287  https://pagellapolitica.it/articoli/guida-elez...   \n1288  https://pagellapolitica.it/articoli/guida-elez...   \n1289  https://pagellapolitica.it/articoli/renzi-parl...   \n1290  https://pagellapolitica.it/articoli/fact-check...   \n\n                                 date  \\\n0     05/29/2024, 11:27 AM, +0000 UTC   \n1     05/28/2024, 11:11 AM, +0000 UTC   \n2     05/27/2024, 05:24 PM, +0000 UTC   \n3     05/28/2024, 10:06 PM, +0000 UTC   \n4     05/28/2024, 10:29 AM, +0000 UTC   \n...                               ...   \n1286  03/06/2024, 08:00 AM, +0000 UTC   \n1287  04/18/2024, 07:00 AM, +0000 UTC   \n1288  06/05/2024, 07:00 AM, +0000 UTC   \n1289  02/19/2024, 08:00 AM, +0000 UTC   \n1290  06/06/2024, 07:00 AM, +0000 UTC   \n\n                                                   text  \\\n0     Partiti elezioni europee 2024: il test per sco...   \n1     Europee, sette i candidati \"impresentabili\" pe...   \n2     Europee, lo sfottò di Calenda al \"tappo\" di Sa...   \n3     Verso le elezioni europee. Meloni vuole azzera...   \n4     Liliana Segre sulle elezioni Europee: âLâe...   \n...                                                 ...   \n1286  Guida alle elezioni regionali in Abruzzo | Pag...   \n1287  Guida alle elezioni regionali in Basilicata | ...   \n1288  A Cagliari il centrodestra cerca la rivincita ...   \n1289  Renzi deve scegliere tra l’Arabia Saudita e il...   \n1290  Il fact-checking di Giorgia Meloni al TG La7 |...   \n\n                                           text_summary  \\\n0     The article presents a interactive test to hel...   \n1     Europe's Antimafia Committee has identified se...   \n2     Europe, Carlo Calenda, a leader of the Italian...   \n3     The article discusses the election program of ...   \n4     Liliana Segre, a senator for life, expressed c...   \n...                                                 ...   \n1286  Guida alle elezioni regionali in Abruzzo\\n\\nIl...   \n1287  The article provides a guide to the regional e...   \n1288  A Cagliari il centrodestra cerca la rivincita ...   \n1289  Here is the summarized text:\\n\\nMatteo Renzi, ...   \n1290  Giorgia Meloni, Presidente del Consiglio, ha f...   \n\n                                          topics_person  \n0     Here is the result:\\n\\n{\\n    \"topic\": \"Politi...  \n1     {\\n\"topic\": \"Criminalità e Sicurezza Pubblica\"...  \n2     {\\n  \"topic\": \"Euroscetticismo\",\\n  \"persons\":...  \n3     Here is the output in JSON format:\\n\\n{\\n    \"...  \n4     {\\n    \"topic\": \"Diritti Umani e Civili\",\\n   ...  \n...                                                 ...  \n1286  Here is the JSON object with the main topic an...  \n1287  Here is the output:\\n\\n{\\n\"topic\": \"Elezioni p...  \n1288  {\\n\"topic\": \"Elezioni comunali\",\\n\"persons\": [...  \n1289  Here is the extracted information in JSON form...  \n1290  {\\n    \"topic\": \"\",\\n    \"persons\": [\"Giorgia ...  \n\n[1291 rows x 7 columns]",
      "text/html": "<div>\n<style scoped>\n    .dataframe tbody tr th:only-of-type {\n        vertical-align: middle;\n    }\n\n    .dataframe tbody tr th {\n        vertical-align: top;\n    }\n\n    .dataframe thead th {\n        text-align: right;\n    }\n</style>\n<table border=\"1\" class=\"dataframe\">\n  <thead>\n    <tr style=\"text-align: right;\">\n      <th></th>\n      <th>title</th>\n      <th>source</th>\n      <th>link</th>\n      <th>date</th>\n      <th>text</th>\n      <th>text_summary</th>\n      <th>topics_person</th>\n    </tr>\n  </thead>\n  <tbody>\n    <tr>\n      <th>0</th>\n      <td>Test sui partiti in lizza alle elezioni europe...</td>\n      <td>La Repubblica</td>\n      <td>https://www.repubblica.it/politica/2024/05/29/...</td>\n      <td>05/29/2024, 11:27 AM, +0000 UTC</td>\n      <td>Partiti elezioni europee 2024: il test per sco...</td>\n      <td>The article presents a interactive test to hel...</td>\n      <td>Here is the result:\\n\\n{\\n    \"topic\": \"Politi...</td>\n    </tr>\n    <tr>\n      <th>1</th>\n      <td>Europee, sette i candidati \"impresentabili\" pe...</td>\n      <td>La Repubblica</td>\n      <td>https://www.repubblica.it/politica/2024/05/28/...</td>\n      <td>05/28/2024, 11:11 AM, +0000 UTC</td>\n      <td>Europee, sette i candidati \"impresentabili\" pe...</td>\n      <td>Europe's Antimafia Committee has identified se...</td>\n      <td>{\\n\"topic\": \"Criminalità e Sicurezza Pubblica\"...</td>\n    </tr>\n    <tr>\n      <th>2</th>\n      <td>Europee, lo sfottò di Calenda al 'tappo' di Sa...</td>\n      <td>La Repubblica</td>\n      <td>https://video.repubblica.it/dossier/video-elez...</td>\n      <td>05/27/2024, 05:24 PM, +0000 UTC</td>\n      <td>Europee, lo sfottò di Calenda al \"tappo\" di Sa...</td>\n      <td>Europe, Carlo Calenda, a leader of the Italian...</td>\n      <td>{\\n  \"topic\": \"Euroscetticismo\",\\n  \"persons\":...</td>\n    </tr>\n    <tr>\n      <th>3</th>\n      <td>Verso le elezioni europee. Meloni vuole azzera...</td>\n      <td>La Repubblica</td>\n      <td>https://www.repubblica.it/economia/rubriche/ou...</td>\n      <td>05/28/2024, 10:06 PM, +0000 UTC</td>\n      <td>Verso le elezioni europee. Meloni vuole azzera...</td>\n      <td>The article discusses the election program of ...</td>\n      <td>Here is the output in JSON format:\\n\\n{\\n    \"...</td>\n    </tr>\n    <tr>\n      <th>4</th>\n      <td>Liliana Segre sulle elezioni Europee: “L’esito...</td>\n      <td>La Repubblica</td>\n      <td>https://milano.repubblica.it/cronaca/2024/05/2...</td>\n      <td>05/28/2024, 10:29 AM, +0000 UTC</td>\n      <td>Liliana Segre sulle elezioni Europee: âLâe...</td>\n      <td>Liliana Segre, a senator for life, expressed c...</td>\n      <td>{\\n    \"topic\": \"Diritti Umani e Civili\",\\n   ...</td>\n    </tr>\n    <tr>\n      <th>...</th>\n      <td>...</td>\n      <td>...</td>\n      <td>...</td>\n      <td>...</td>\n      <td>...</td>\n      <td>...</td>\n      <td>...</td>\n    </tr>\n    <tr>\n      <th>1286</th>\n      <td>Guida alle elezioni regionali in Abruzzo</td>\n      <td>Pagella Politica</td>\n      <td>https://pagellapolitica.it/articoli/guida-elez...</td>\n      <td>03/06/2024, 08:00 AM, +0000 UTC</td>\n      <td>Guida alle elezioni regionali in Abruzzo | Pag...</td>\n      <td>Guida alle elezioni regionali in Abruzzo\\n\\nIl...</td>\n      <td>Here is the JSON object with the main topic an...</td>\n    </tr>\n    <tr>\n      <th>1287</th>\n      <td>Guida alle elezioni regionali in Basilicata</td>\n      <td>Pagella Politica</td>\n      <td>https://pagellapolitica.it/articoli/guida-elez...</td>\n      <td>04/18/2024, 07:00 AM, +0000 UTC</td>\n      <td>Guida alle elezioni regionali in Basilicata | ...</td>\n      <td>The article provides a guide to the regional e...</td>\n      <td>Here is the output:\\n\\n{\\n\"topic\": \"Elezioni p...</td>\n    </tr>\n    <tr>\n      <th>1288</th>\n      <td>A Cagliari il centrodestra cerca la rivincita ...</td>\n      <td>Pagella Politica</td>\n      <td>https://pagellapolitica.it/articoli/guida-elez...</td>\n      <td>06/05/2024, 07:00 AM, +0000 UTC</td>\n      <td>A Cagliari il centrodestra cerca la rivincita ...</td>\n      <td>A Cagliari il centrodestra cerca la rivincita ...</td>\n      <td>{\\n\"topic\": \"Elezioni comunali\",\\n\"persons\": [...</td>\n    </tr>\n    <tr>\n      <th>1289</th>\n      <td>Renzi deve scegliere tra l’Arabia Saudita e il...</td>\n      <td>Pagella Politica</td>\n      <td>https://pagellapolitica.it/articoli/renzi-parl...</td>\n      <td>02/19/2024, 08:00 AM, +0000 UTC</td>\n      <td>Renzi deve scegliere tra l’Arabia Saudita e il...</td>\n      <td>Here is the summarized text:\\n\\nMatteo Renzi, ...</td>\n      <td>Here is the extracted information in JSON form...</td>\n    </tr>\n    <tr>\n      <th>1290</th>\n      <td>Il fact-checking di Giorgia Meloni al TG La7</td>\n      <td>Pagella Politica</td>\n      <td>https://pagellapolitica.it/articoli/fact-check...</td>\n      <td>06/06/2024, 07:00 AM, +0000 UTC</td>\n      <td>Il fact-checking di Giorgia Meloni al TG La7 |...</td>\n      <td>Giorgia Meloni, Presidente del Consiglio, ha f...</td>\n      <td>{\\n    \"topic\": \"\",\\n    \"persons\": [\"Giorgia ...</td>\n    </tr>\n  </tbody>\n</table>\n<p>1291 rows × 7 columns</p>\n</div>"
     },
     "execution_count": 44,
     "metadata": {},
     "output_type": "execute_result"
    }
   ],
   "source": [
    "pd.read_csv(SOURCE_DIR / \"datasets/elezioni_europee_intermediate.csv\")\n"
   ],
   "metadata": {
    "collapsed": false,
    "ExecuteTime": {
     "end_time": "2024-07-14T09:50:33.900282Z",
     "start_time": "2024-07-14T09:50:33.750976Z"
    }
   }
  },
  {
   "cell_type": "code",
   "execution_count": 88,
   "outputs": [
    {
     "name": "stderr",
     "output_type": "stream",
     "text": [
      "/Users/filippopacinelli/news-mapping-eu-elections/venv/lib/python3.10/site-packages/networkx/drawing/nx_pylab.py:450: UserWarning: *c* argument looks like a single numeric RGB or RGBA sequence, which should be avoided as value-mapping will have precedence in case its length matches with *x* & *y*.  Please use the *color* keyword-argument or provide a 2D array with a single row if you intend to specify the same RGB or RGBA value for all points.\n",
      "  node_collection = ax.scatter(\n"
     ]
    },
    {
     "data": {
      "text/plain": "<Figure size 1400x1400 with 1 Axes>",
      "image/png": "[encoded data removed]"
     },
     "metadata": {},
     "output_type": "display_data"
    }
   ],
   "source": [
    "graph.plot_graph()"
   ],
   "metadata": {
    "collapsed": false,
    "ExecuteTime": {
     "end_time": "2024-07-13T11:08:25.134878Z",
     "start_time": "2024-07-13T11:08:24.949033Z"
    }
   }
  },
  {
   "cell_type": "code",
   "source": "",
   "metadata": {
    "collapsed": false,
    "ExecuteTime": {
     "end_time": "2024-09-13T17:47:24.234036Z",
     "start_time": "2024-09-13T17:47:23.949644Z"
    }
   },
   "outputs": [
    {
     "ename": "FileNotFoundError",
     "evalue": "[Errno 2] No such file or directory: 'Users/filippopacinelli/news-mapping-eu-elections/datasets/elezioni_europee_processed.csv'",
     "output_type": "error",
     "traceback": [
      "\u001B[0;31m---------------------------------------------------------------------------\u001B[0m",
      "\u001B[0;31mFileNotFoundError\u001B[0m                         Traceback (most recent call last)",
      "Cell \u001B[0;32mIn[19], line 2\u001B[0m\n\u001B[1;32m      1\u001B[0m \u001B[38;5;28;01mimport\u001B[39;00m \u001B[38;5;21;01mpandas\u001B[39;00m \u001B[38;5;28;01mas\u001B[39;00m \u001B[38;5;21;01mpd\u001B[39;00m\n\u001B[0;32m----> 2\u001B[0m df \u001B[38;5;241m=\u001B[39m \u001B[43mpd\u001B[49m\u001B[38;5;241;43m.\u001B[39;49m\u001B[43mread_csv\u001B[49m\u001B[43m(\u001B[49m\u001B[38;5;124;43m\"\u001B[39;49m\u001B[38;5;124;43mUsers/filippopacinelli/news-mapping-eu-elections/datasets/elezioni_europee_processed.csv\u001B[39;49m\u001B[38;5;124;43m\"\u001B[39;49m\u001B[43m)\u001B[49m\n",
      "File \u001B[0;32m~/news-mapping-eu-elections/venv/lib/python3.10/site-packages/pandas/io/parsers/readers.py:1026\u001B[0m, in \u001B[0;36mread_csv\u001B[0;34m(filepath_or_buffer, sep, delimiter, header, names, index_col, usecols, dtype, engine, converters, true_values, false_values, skipinitialspace, skiprows, skipfooter, nrows, na_values, keep_default_na, na_filter, verbose, skip_blank_lines, parse_dates, infer_datetime_format, keep_date_col, date_parser, date_format, dayfirst, cache_dates, iterator, chunksize, compression, thousands, decimal, lineterminator, quotechar, quoting, doublequote, escapechar, comment, encoding, encoding_errors, dialect, on_bad_lines, delim_whitespace, low_memory, memory_map, float_precision, storage_options, dtype_backend)\u001B[0m\n\u001B[1;32m   1013\u001B[0m kwds_defaults \u001B[38;5;241m=\u001B[39m _refine_defaults_read(\n\u001B[1;32m   1014\u001B[0m     dialect,\n\u001B[1;32m   1015\u001B[0m     delimiter,\n\u001B[0;32m   (...)\u001B[0m\n\u001B[1;32m   1022\u001B[0m     dtype_backend\u001B[38;5;241m=\u001B[39mdtype_backend,\n\u001B[1;32m   1023\u001B[0m )\n\u001B[1;32m   1024\u001B[0m kwds\u001B[38;5;241m.\u001B[39mupdate(kwds_defaults)\n\u001B[0;32m-> 1026\u001B[0m \u001B[38;5;28;01mreturn\u001B[39;00m \u001B[43m_read\u001B[49m\u001B[43m(\u001B[49m\u001B[43mfilepath_or_buffer\u001B[49m\u001B[43m,\u001B[49m\u001B[43m \u001B[49m\u001B[43mkwds\u001B[49m\u001B[43m)\u001B[49m\n",
      "File \u001B[0;32m~/news-mapping-eu-elections/venv/lib/python3.10/site-packages/pandas/io/parsers/readers.py:620\u001B[0m, in \u001B[0;36m_read\u001B[0;34m(filepath_or_buffer, kwds)\u001B[0m\n\u001B[1;32m    617\u001B[0m _validate_names(kwds\u001B[38;5;241m.\u001B[39mget(\u001B[38;5;124m\"\u001B[39m\u001B[38;5;124mnames\u001B[39m\u001B[38;5;124m\"\u001B[39m, \u001B[38;5;28;01mNone\u001B[39;00m))\n\u001B[1;32m    619\u001B[0m \u001B[38;5;66;03m# Create the parser.\u001B[39;00m\n\u001B[0;32m--> 620\u001B[0m parser \u001B[38;5;241m=\u001B[39m \u001B[43mTextFileReader\u001B[49m\u001B[43m(\u001B[49m\u001B[43mfilepath_or_buffer\u001B[49m\u001B[43m,\u001B[49m\u001B[43m \u001B[49m\u001B[38;5;241;43m*\u001B[39;49m\u001B[38;5;241;43m*\u001B[39;49m\u001B[43mkwds\u001B[49m\u001B[43m)\u001B[49m\n\u001B[1;32m    622\u001B[0m \u001B[38;5;28;01mif\u001B[39;00m chunksize \u001B[38;5;129;01mor\u001B[39;00m iterator:\n\u001B[1;32m    623\u001B[0m     \u001B[38;5;28;01mreturn\u001B[39;00m parser\n",
      "File \u001B[0;32m~/news-mapping-eu-elections/venv/lib/python3.10/site-packages/pandas/io/parsers/readers.py:1620\u001B[0m, in \u001B[0;36mTextFileReader.__init__\u001B[0;34m(self, f, engine, **kwds)\u001B[0m\n\u001B[1;32m   1617\u001B[0m     \u001B[38;5;28mself\u001B[39m\u001B[38;5;241m.\u001B[39moptions[\u001B[38;5;124m\"\u001B[39m\u001B[38;5;124mhas_index_names\u001B[39m\u001B[38;5;124m\"\u001B[39m] \u001B[38;5;241m=\u001B[39m kwds[\u001B[38;5;124m\"\u001B[39m\u001B[38;5;124mhas_index_names\u001B[39m\u001B[38;5;124m\"\u001B[39m]\n\u001B[1;32m   1619\u001B[0m \u001B[38;5;28mself\u001B[39m\u001B[38;5;241m.\u001B[39mhandles: IOHandles \u001B[38;5;241m|\u001B[39m \u001B[38;5;28;01mNone\u001B[39;00m \u001B[38;5;241m=\u001B[39m \u001B[38;5;28;01mNone\u001B[39;00m\n\u001B[0;32m-> 1620\u001B[0m \u001B[38;5;28mself\u001B[39m\u001B[38;5;241m.\u001B[39m_engine \u001B[38;5;241m=\u001B[39m \u001B[38;5;28;43mself\u001B[39;49m\u001B[38;5;241;43m.\u001B[39;49m\u001B[43m_make_engine\u001B[49m\u001B[43m(\u001B[49m\u001B[43mf\u001B[49m\u001B[43m,\u001B[49m\u001B[43m \u001B[49m\u001B[38;5;28;43mself\u001B[39;49m\u001B[38;5;241;43m.\u001B[39;49m\u001B[43mengine\u001B[49m\u001B[43m)\u001B[49m\n",
      "File \u001B[0;32m~/news-mapping-eu-elections/venv/lib/python3.10/site-packages/pandas/io/parsers/readers.py:1880\u001B[0m, in \u001B[0;36mTextFileReader._make_engine\u001B[0;34m(self, f, engine)\u001B[0m\n\u001B[1;32m   1878\u001B[0m     \u001B[38;5;28;01mif\u001B[39;00m \u001B[38;5;124m\"\u001B[39m\u001B[38;5;124mb\u001B[39m\u001B[38;5;124m\"\u001B[39m \u001B[38;5;129;01mnot\u001B[39;00m \u001B[38;5;129;01min\u001B[39;00m mode:\n\u001B[1;32m   1879\u001B[0m         mode \u001B[38;5;241m+\u001B[39m\u001B[38;5;241m=\u001B[39m \u001B[38;5;124m\"\u001B[39m\u001B[38;5;124mb\u001B[39m\u001B[38;5;124m\"\u001B[39m\n\u001B[0;32m-> 1880\u001B[0m \u001B[38;5;28mself\u001B[39m\u001B[38;5;241m.\u001B[39mhandles \u001B[38;5;241m=\u001B[39m \u001B[43mget_handle\u001B[49m\u001B[43m(\u001B[49m\n\u001B[1;32m   1881\u001B[0m \u001B[43m    \u001B[49m\u001B[43mf\u001B[49m\u001B[43m,\u001B[49m\n\u001B[1;32m   1882\u001B[0m \u001B[43m    \u001B[49m\u001B[43mmode\u001B[49m\u001B[43m,\u001B[49m\n\u001B[1;32m   1883\u001B[0m \u001B[43m    \u001B[49m\u001B[43mencoding\u001B[49m\u001B[38;5;241;43m=\u001B[39;49m\u001B[38;5;28;43mself\u001B[39;49m\u001B[38;5;241;43m.\u001B[39;49m\u001B[43moptions\u001B[49m\u001B[38;5;241;43m.\u001B[39;49m\u001B[43mget\u001B[49m\u001B[43m(\u001B[49m\u001B[38;5;124;43m\"\u001B[39;49m\u001B[38;5;124;43mencoding\u001B[39;49m\u001B[38;5;124;43m\"\u001B[39;49m\u001B[43m,\u001B[49m\u001B[43m \u001B[49m\u001B[38;5;28;43;01mNone\u001B[39;49;00m\u001B[43m)\u001B[49m\u001B[43m,\u001B[49m\n\u001B[1;32m   1884\u001B[0m \u001B[43m    \u001B[49m\u001B[43mcompression\u001B[49m\u001B[38;5;241;43m=\u001B[39;49m\u001B[38;5;28;43mself\u001B[39;49m\u001B[38;5;241;43m.\u001B[39;49m\u001B[43moptions\u001B[49m\u001B[38;5;241;43m.\u001B[39;49m\u001B[43mget\u001B[49m\u001B[43m(\u001B[49m\u001B[38;5;124;43m\"\u001B[39;49m\u001B[38;5;124;43mcompression\u001B[39;49m\u001B[38;5;124;43m\"\u001B[39;49m\u001B[43m,\u001B[49m\u001B[43m \u001B[49m\u001B[38;5;28;43;01mNone\u001B[39;49;00m\u001B[43m)\u001B[49m\u001B[43m,\u001B[49m\n\u001B[1;32m   1885\u001B[0m \u001B[43m    \u001B[49m\u001B[43mmemory_map\u001B[49m\u001B[38;5;241;43m=\u001B[39;49m\u001B[38;5;28;43mself\u001B[39;49m\u001B[38;5;241;43m.\u001B[39;49m\u001B[43moptions\u001B[49m\u001B[38;5;241;43m.\u001B[39;49m\u001B[43mget\u001B[49m\u001B[43m(\u001B[49m\u001B[38;5;124;43m\"\u001B[39;49m\u001B[38;5;124;43mmemory_map\u001B[39;49m\u001B[38;5;124;43m\"\u001B[39;49m\u001B[43m,\u001B[49m\u001B[43m \u001B[49m\u001B[38;5;28;43;01mFalse\u001B[39;49;00m\u001B[43m)\u001B[49m\u001B[43m,\u001B[49m\n\u001B[1;32m   1886\u001B[0m \u001B[43m    \u001B[49m\u001B[43mis_text\u001B[49m\u001B[38;5;241;43m=\u001B[39;49m\u001B[43mis_text\u001B[49m\u001B[43m,\u001B[49m\n\u001B[1;32m   1887\u001B[0m \u001B[43m    \u001B[49m\u001B[43merrors\u001B[49m\u001B[38;5;241;43m=\u001B[39;49m\u001B[38;5;28;43mself\u001B[39;49m\u001B[38;5;241;43m.\u001B[39;49m\u001B[43moptions\u001B[49m\u001B[38;5;241;43m.\u001B[39;49m\u001B[43mget\u001B[49m\u001B[43m(\u001B[49m\u001B[38;5;124;43m\"\u001B[39;49m\u001B[38;5;124;43mencoding_errors\u001B[39;49m\u001B[38;5;124;43m\"\u001B[39;49m\u001B[43m,\u001B[49m\u001B[43m \u001B[49m\u001B[38;5;124;43m\"\u001B[39;49m\u001B[38;5;124;43mstrict\u001B[39;49m\u001B[38;5;124;43m\"\u001B[39;49m\u001B[43m)\u001B[49m\u001B[43m,\u001B[49m\n\u001B[1;32m   1888\u001B[0m \u001B[43m    \u001B[49m\u001B[43mstorage_options\u001B[49m\u001B[38;5;241;43m=\u001B[39;49m\u001B[38;5;28;43mself\u001B[39;49m\u001B[38;5;241;43m.\u001B[39;49m\u001B[43moptions\u001B[49m\u001B[38;5;241;43m.\u001B[39;49m\u001B[43mget\u001B[49m\u001B[43m(\u001B[49m\u001B[38;5;124;43m\"\u001B[39;49m\u001B[38;5;124;43mstorage_options\u001B[39;49m\u001B[38;5;124;43m\"\u001B[39;49m\u001B[43m,\u001B[49m\u001B[43m \u001B[49m\u001B[38;5;28;43;01mNone\u001B[39;49;00m\u001B[43m)\u001B[49m\u001B[43m,\u001B[49m\n\u001B[1;32m   1889\u001B[0m \u001B[43m\u001B[49m\u001B[43m)\u001B[49m\n\u001B[1;32m   1890\u001B[0m \u001B[38;5;28;01massert\u001B[39;00m \u001B[38;5;28mself\u001B[39m\u001B[38;5;241m.\u001B[39mhandles \u001B[38;5;129;01mis\u001B[39;00m \u001B[38;5;129;01mnot\u001B[39;00m \u001B[38;5;28;01mNone\u001B[39;00m\n\u001B[1;32m   1891\u001B[0m f \u001B[38;5;241m=\u001B[39m \u001B[38;5;28mself\u001B[39m\u001B[38;5;241m.\u001B[39mhandles\u001B[38;5;241m.\u001B[39mhandle\n",
      "File \u001B[0;32m~/news-mapping-eu-elections/venv/lib/python3.10/site-packages/pandas/io/common.py:873\u001B[0m, in \u001B[0;36mget_handle\u001B[0;34m(path_or_buf, mode, encoding, compression, memory_map, is_text, errors, storage_options)\u001B[0m\n\u001B[1;32m    868\u001B[0m \u001B[38;5;28;01melif\u001B[39;00m \u001B[38;5;28misinstance\u001B[39m(handle, \u001B[38;5;28mstr\u001B[39m):\n\u001B[1;32m    869\u001B[0m     \u001B[38;5;66;03m# Check whether the filename is to be opened in binary mode.\u001B[39;00m\n\u001B[1;32m    870\u001B[0m     \u001B[38;5;66;03m# Binary mode does not support 'encoding' and 'newline'.\u001B[39;00m\n\u001B[1;32m    871\u001B[0m     \u001B[38;5;28;01mif\u001B[39;00m ioargs\u001B[38;5;241m.\u001B[39mencoding \u001B[38;5;129;01mand\u001B[39;00m \u001B[38;5;124m\"\u001B[39m\u001B[38;5;124mb\u001B[39m\u001B[38;5;124m\"\u001B[39m \u001B[38;5;129;01mnot\u001B[39;00m \u001B[38;5;129;01min\u001B[39;00m ioargs\u001B[38;5;241m.\u001B[39mmode:\n\u001B[1;32m    872\u001B[0m         \u001B[38;5;66;03m# Encoding\u001B[39;00m\n\u001B[0;32m--> 873\u001B[0m         handle \u001B[38;5;241m=\u001B[39m \u001B[38;5;28;43mopen\u001B[39;49m\u001B[43m(\u001B[49m\n\u001B[1;32m    874\u001B[0m \u001B[43m            \u001B[49m\u001B[43mhandle\u001B[49m\u001B[43m,\u001B[49m\n\u001B[1;32m    875\u001B[0m \u001B[43m            \u001B[49m\u001B[43mioargs\u001B[49m\u001B[38;5;241;43m.\u001B[39;49m\u001B[43mmode\u001B[49m\u001B[43m,\u001B[49m\n\u001B[1;32m    876\u001B[0m \u001B[43m            \u001B[49m\u001B[43mencoding\u001B[49m\u001B[38;5;241;43m=\u001B[39;49m\u001B[43mioargs\u001B[49m\u001B[38;5;241;43m.\u001B[39;49m\u001B[43mencoding\u001B[49m\u001B[43m,\u001B[49m\n\u001B[1;32m    877\u001B[0m \u001B[43m            \u001B[49m\u001B[43merrors\u001B[49m\u001B[38;5;241;43m=\u001B[39;49m\u001B[43merrors\u001B[49m\u001B[43m,\u001B[49m\n\u001B[1;32m    878\u001B[0m \u001B[43m            \u001B[49m\u001B[43mnewline\u001B[49m\u001B[38;5;241;43m=\u001B[39;49m\u001B[38;5;124;43m\"\u001B[39;49m\u001B[38;5;124;43m\"\u001B[39;49m\u001B[43m,\u001B[49m\n\u001B[1;32m    879\u001B[0m \u001B[43m        \u001B[49m\u001B[43m)\u001B[49m\n\u001B[1;32m    880\u001B[0m     \u001B[38;5;28;01melse\u001B[39;00m:\n\u001B[1;32m    881\u001B[0m         \u001B[38;5;66;03m# Binary mode\u001B[39;00m\n\u001B[1;32m    882\u001B[0m         handle \u001B[38;5;241m=\u001B[39m \u001B[38;5;28mopen\u001B[39m(handle, ioargs\u001B[38;5;241m.\u001B[39mmode)\n",
      "\u001B[0;31mFileNotFoundError\u001B[0m: [Errno 2] No such file or directory: 'Users/filippopacinelli/news-mapping-eu-elections/datasets/elezioni_europee_processed.csv'"
     ]
    }
   ],
   "execution_count": 19
  },
  {
   "cell_type": "code",
   "source": "df",
   "metadata": {
    "collapsed": false,
    "ExecuteTime": {
     "end_time": "2024-09-13T17:47:25.604040Z",
     "start_time": "2024-09-13T17:47:25.575642Z"
    }
   },
   "outputs": [
    {
     "data": {
      "text/plain": [
       "                                                 title    source  \\\n",
       "0    Votare per l’Europa, compito difficile ma dove...  Avvenire   \n",
       "1    Alle Europee “cederemo” il voto ai nostri figl...  Avvenire   \n",
       "2    Zuppi su premierato, autonomia differenziata, ...  Avvenire   \n",
       "3    Meloni: \"Il referendum non passa? Chissene imp...  Avvenire   \n",
       "4    Un nuovo spettro si aggira per l'Europa: il «n...  Avvenire   \n",
       "..                                                 ...       ...   \n",
       "118  Il Constitutional Circus sceglie Riace per lan...  Avvenire   \n",
       "119  Soglia al 3%, un gioco del cerino in cui solta...  Avvenire   \n",
       "120  Accoglienza e asilo, accordo fatto in Europa: ...  Avvenire   \n",
       "121  La via di Tommaso anche oggi: né appiattirsi n...  Avvenire   \n",
       "122  Regionali-Europee, muro contro muro Salvini-Me...  Avvenire   \n",
       "\n",
       "                                                  link  \\\n",
       "0    https://www.avvenire.it/rubriche/pagine/votare...   \n",
       "1    https://www.avvenire.it/attualita/pagine/cedia...   \n",
       "2    https://www.avvenire.it/chiesa/pagine/conferen...   \n",
       "3    https://www.avvenire.it/attualita/pagine/premi...   \n",
       "4    https://www.avvenire.it/attualita/pagine/un-nu...   \n",
       "..                                                 ...   \n",
       "118  https://www.avvenire.it/attualita/pagine/il-co...   \n",
       "119  https://www.avvenire.it/attualita/pagine/un-gi...   \n",
       "120  https://www.avvenire.it/attualita/pagine/patto...   \n",
       "121  https://www.avvenire.it/opinioni/pagine/nell-o...   \n",
       "122  https://www.avvenire.it/attualita/pagine/salvi...   \n",
       "\n",
       "                                date  \\\n",
       "0    05/21/2024, 05:43 AM, +0000 UTC   \n",
       "1    05/24/2024, 08:03 PM, +0000 UTC   \n",
       "2    05/23/2024, 02:06 PM, +0000 UTC   \n",
       "3    05/27/2024, 09:50 AM, +0000 UTC   \n",
       "4    04/02/2024, 07:00 AM, +0000 UTC   \n",
       "..                               ...   \n",
       "118  04/30/2024, 07:00 AM, +0000 UTC   \n",
       "119  09/06/2023, 07:00 AM, +0000 UTC   \n",
       "120  12/20/2023, 08:00 AM, +0000 UTC   \n",
       "121  05/04/2024, 07:00 AM, +0000 UTC   \n",
       "122  01/11/2024, 08:00 AM, +0000 UTC   \n",
       "\n",
       "                                                  text  \\\n",
       "0    Votare per l’Europa, compito difficile ma dove...   \n",
       "1    Alle Europee “cederemo” il voto ai nostri figl...   \n",
       "2    Zuppi su premierato, autonomia differenziata, ...   \n",
       "3    Meloni: «Il referendum non passa? Chissene imp...   \n",
       "4    Un nuovo spettro si aggira per l'Europa: il «n...   \n",
       "..                                                 ...   \n",
       "118  Il Constitutional Circus sceglie Riace per lan...   \n",
       "119  Soglia al 3%, un gioco del cerino in cui solta...   \n",
       "120  Accoglienza e asilo, accordo fatto in Europa: ...   \n",
       "121  La via di Tommaso anche oggi: né appiattirsi n...   \n",
       "122  Regionali-Europee, muro contro muro Salvini-Me...   \n",
       "\n",
       "                                         topics_person  \n",
       "0    Here is the JSON output with the required info...  \n",
       "1    Here is the JSON output:\\n\\n```\\n{\\n    \"title...  \n",
       "2    Here is the JSON output:\\n\\n```\\n{\\n  \"title\":...  \n",
       "3    Here is the analyzed output in JSON format:\\n\\...  \n",
       "4    Here is the JSON output with the requested inf...  \n",
       "..                                                 ...  \n",
       "118  Here is the JSON output:\\n\\n```\\n{\\n    \"title...  \n",
       "119  Here is the analyzed news article in JSON form...  \n",
       "120  Here is the json object with the requested inf...  \n",
       "121  Here is the analyzed article in JSON format:\\n...  \n",
       "122  Here is the JSON output:\\n\\n```\\n{\\n  \"title\":...  \n",
       "\n",
       "[123 rows x 6 columns]"
      ],
      "text/html": [
       "<div>\n",
       "<style scoped>\n",
       "    .dataframe tbody tr th:only-of-type {\n",
       "        vertical-align: middle;\n",
       "    }\n",
       "\n",
       "    .dataframe tbody tr th {\n",
       "        vertical-align: top;\n",
       "    }\n",
       "\n",
       "    .dataframe thead th {\n",
       "        text-align: right;\n",
       "    }\n",
       "</style>\n",
       "<table border=\"1\" class=\"dataframe\">\n",
       "  <thead>\n",
       "    <tr style=\"text-align: right;\">\n",
       "      <th></th>\n",
       "      <th>title</th>\n",
       "      <th>source</th>\n",
       "      <th>link</th>\n",
       "      <th>date</th>\n",
       "      <th>text</th>\n",
       "      <th>topics_person</th>\n",
       "    </tr>\n",
       "  </thead>\n",
       "  <tbody>\n",
       "    <tr>\n",
       "      <th>0</th>\n",
       "      <td>Votare per l’Europa, compito difficile ma dove...</td>\n",
       "      <td>Avvenire</td>\n",
       "      <td>https://www.avvenire.it/rubriche/pagine/votare...</td>\n",
       "      <td>05/21/2024, 05:43 AM, +0000 UTC</td>\n",
       "      <td>Votare per l’Europa, compito difficile ma dove...</td>\n",
       "      <td>Here is the JSON output with the required info...</td>\n",
       "    </tr>\n",
       "    <tr>\n",
       "      <th>1</th>\n",
       "      <td>Alle Europee “cederemo” il voto ai nostri figl...</td>\n",
       "      <td>Avvenire</td>\n",
       "      <td>https://www.avvenire.it/attualita/pagine/cedia...</td>\n",
       "      <td>05/24/2024, 08:03 PM, +0000 UTC</td>\n",
       "      <td>Alle Europee “cederemo” il voto ai nostri figl...</td>\n",
       "      <td>Here is the JSON output:\\n\\n```\\n{\\n    \"title...</td>\n",
       "    </tr>\n",
       "    <tr>\n",
       "      <th>2</th>\n",
       "      <td>Zuppi su premierato, autonomia differenziata, ...</td>\n",
       "      <td>Avvenire</td>\n",
       "      <td>https://www.avvenire.it/chiesa/pagine/conferen...</td>\n",
       "      <td>05/23/2024, 02:06 PM, +0000 UTC</td>\n",
       "      <td>Zuppi su premierato, autonomia differenziata, ...</td>\n",
       "      <td>Here is the JSON output:\\n\\n```\\n{\\n  \"title\":...</td>\n",
       "    </tr>\n",
       "    <tr>\n",
       "      <th>3</th>\n",
       "      <td>Meloni: \"Il referendum non passa? Chissene imp...</td>\n",
       "      <td>Avvenire</td>\n",
       "      <td>https://www.avvenire.it/attualita/pagine/premi...</td>\n",
       "      <td>05/27/2024, 09:50 AM, +0000 UTC</td>\n",
       "      <td>Meloni: «Il referendum non passa? Chissene imp...</td>\n",
       "      <td>Here is the analyzed output in JSON format:\\n\\...</td>\n",
       "    </tr>\n",
       "    <tr>\n",
       "      <th>4</th>\n",
       "      <td>Un nuovo spettro si aggira per l'Europa: il «n...</td>\n",
       "      <td>Avvenire</td>\n",
       "      <td>https://www.avvenire.it/attualita/pagine/un-nu...</td>\n",
       "      <td>04/02/2024, 07:00 AM, +0000 UTC</td>\n",
       "      <td>Un nuovo spettro si aggira per l'Europa: il «n...</td>\n",
       "      <td>Here is the JSON output with the requested inf...</td>\n",
       "    </tr>\n",
       "    <tr>\n",
       "      <th>...</th>\n",
       "      <td>...</td>\n",
       "      <td>...</td>\n",
       "      <td>...</td>\n",
       "      <td>...</td>\n",
       "      <td>...</td>\n",
       "      <td>...</td>\n",
       "    </tr>\n",
       "    <tr>\n",
       "      <th>118</th>\n",
       "      <td>Il Constitutional Circus sceglie Riace per lan...</td>\n",
       "      <td>Avvenire</td>\n",
       "      <td>https://www.avvenire.it/attualita/pagine/il-co...</td>\n",
       "      <td>04/30/2024, 07:00 AM, +0000 UTC</td>\n",
       "      <td>Il Constitutional Circus sceglie Riace per lan...</td>\n",
       "      <td>Here is the JSON output:\\n\\n```\\n{\\n    \"title...</td>\n",
       "    </tr>\n",
       "    <tr>\n",
       "      <th>119</th>\n",
       "      <td>Soglia al 3%, un gioco del cerino in cui solta...</td>\n",
       "      <td>Avvenire</td>\n",
       "      <td>https://www.avvenire.it/attualita/pagine/un-gi...</td>\n",
       "      <td>09/06/2023, 07:00 AM, +0000 UTC</td>\n",
       "      <td>Soglia al 3%, un gioco del cerino in cui solta...</td>\n",
       "      <td>Here is the analyzed news article in JSON form...</td>\n",
       "    </tr>\n",
       "    <tr>\n",
       "      <th>120</th>\n",
       "      <td>Accoglienza e asilo, accordo fatto in Europa: ...</td>\n",
       "      <td>Avvenire</td>\n",
       "      <td>https://www.avvenire.it/attualita/pagine/patto...</td>\n",
       "      <td>12/20/2023, 08:00 AM, +0000 UTC</td>\n",
       "      <td>Accoglienza e asilo, accordo fatto in Europa: ...</td>\n",
       "      <td>Here is the json object with the requested inf...</td>\n",
       "    </tr>\n",
       "    <tr>\n",
       "      <th>121</th>\n",
       "      <td>La via di Tommaso anche oggi: né appiattirsi n...</td>\n",
       "      <td>Avvenire</td>\n",
       "      <td>https://www.avvenire.it/opinioni/pagine/nell-o...</td>\n",
       "      <td>05/04/2024, 07:00 AM, +0000 UTC</td>\n",
       "      <td>La via di Tommaso anche oggi: né appiattirsi n...</td>\n",
       "      <td>Here is the analyzed article in JSON format:\\n...</td>\n",
       "    </tr>\n",
       "    <tr>\n",
       "      <th>122</th>\n",
       "      <td>Regionali-Europee, muro contro muro Salvini-Me...</td>\n",
       "      <td>Avvenire</td>\n",
       "      <td>https://www.avvenire.it/attualita/pagine/salvi...</td>\n",
       "      <td>01/11/2024, 08:00 AM, +0000 UTC</td>\n",
       "      <td>Regionali-Europee, muro contro muro Salvini-Me...</td>\n",
       "      <td>Here is the JSON output:\\n\\n```\\n{\\n  \"title\":...</td>\n",
       "    </tr>\n",
       "  </tbody>\n",
       "</table>\n",
       "<p>123 rows × 6 columns</p>\n",
       "</div>"
      ]
     },
     "execution_count": 20,
     "metadata": {},
     "output_type": "execute_result"
    }
   ],
   "execution_count": 20
  },
  {
   "metadata": {
    "ExecuteTime": {
     "end_time": "2024-09-13T17:46:35.565080Z",
     "start_time": "2024-09-13T17:46:35.553325Z"
    }
   },
   "cell_type": "code",
   "source": "df",
   "outputs": [
    {
     "data": {
      "text/plain": [
       "                                                 title    source  \\\n",
       "0    Votare per l’Europa, compito difficile ma dove...  Avvenire   \n",
       "1    Alle Europee “cederemo” il voto ai nostri figl...  Avvenire   \n",
       "2    Zuppi su premierato, autonomia differenziata, ...  Avvenire   \n",
       "3    Meloni: \"Il referendum non passa? Chissene imp...  Avvenire   \n",
       "4    Un nuovo spettro si aggira per l'Europa: il «n...  Avvenire   \n",
       "..                                                 ...       ...   \n",
       "118  Il Constitutional Circus sceglie Riace per lan...  Avvenire   \n",
       "119  Soglia al 3%, un gioco del cerino in cui solta...  Avvenire   \n",
       "120  Accoglienza e asilo, accordo fatto in Europa: ...  Avvenire   \n",
       "121  La via di Tommaso anche oggi: né appiattirsi n...  Avvenire   \n",
       "122  Regionali-Europee, muro contro muro Salvini-Me...  Avvenire   \n",
       "\n",
       "                                                  link  \\\n",
       "0    https://www.avvenire.it/rubriche/pagine/votare...   \n",
       "1    https://www.avvenire.it/attualita/pagine/cedia...   \n",
       "2    https://www.avvenire.it/chiesa/pagine/conferen...   \n",
       "3    https://www.avvenire.it/attualita/pagine/premi...   \n",
       "4    https://www.avvenire.it/attualita/pagine/un-nu...   \n",
       "..                                                 ...   \n",
       "118  https://www.avvenire.it/attualita/pagine/il-co...   \n",
       "119  https://www.avvenire.it/attualita/pagine/un-gi...   \n",
       "120  https://www.avvenire.it/attualita/pagine/patto...   \n",
       "121  https://www.avvenire.it/opinioni/pagine/nell-o...   \n",
       "122  https://www.avvenire.it/attualita/pagine/salvi...   \n",
       "\n",
       "                                date  \\\n",
       "0    05/21/2024, 05:43 AM, +0000 UTC   \n",
       "1    05/24/2024, 08:03 PM, +0000 UTC   \n",
       "2    05/23/2024, 02:06 PM, +0000 UTC   \n",
       "3    05/27/2024, 09:50 AM, +0000 UTC   \n",
       "4    04/02/2024, 07:00 AM, +0000 UTC   \n",
       "..                               ...   \n",
       "118  04/30/2024, 07:00 AM, +0000 UTC   \n",
       "119  09/06/2023, 07:00 AM, +0000 UTC   \n",
       "120  12/20/2023, 08:00 AM, +0000 UTC   \n",
       "121  05/04/2024, 07:00 AM, +0000 UTC   \n",
       "122  01/11/2024, 08:00 AM, +0000 UTC   \n",
       "\n",
       "                                                  text  \\\n",
       "0    Votare per l’Europa, compito difficile ma dove...   \n",
       "1    Alle Europee “cederemo” il voto ai nostri figl...   \n",
       "2    Zuppi su premierato, autonomia differenziata, ...   \n",
       "3    Meloni: «Il referendum non passa? Chissene imp...   \n",
       "4    Un nuovo spettro si aggira per l'Europa: il «n...   \n",
       "..                                                 ...   \n",
       "118  Il Constitutional Circus sceglie Riace per lan...   \n",
       "119  Soglia al 3%, un gioco del cerino in cui solta...   \n",
       "120  Accoglienza e asilo, accordo fatto in Europa: ...   \n",
       "121  La via di Tommaso anche oggi: né appiattirsi n...   \n",
       "122  Regionali-Europee, muro contro muro Salvini-Me...   \n",
       "\n",
       "                                         topics_person  \n",
       "0    Here is the JSON output with the required info...  \n",
       "1    Here is the JSON output:\\n\\n```\\n{\\n    \"title...  \n",
       "2    Here is the JSON output:\\n\\n```\\n{\\n  \"title\":...  \n",
       "3    Here is the analyzed output in JSON format:\\n\\...  \n",
       "4    Here is the JSON output with the requested inf...  \n",
       "..                                                 ...  \n",
       "118  Here is the JSON output:\\n\\n```\\n{\\n    \"title...  \n",
       "119  Here is the analyzed news article in JSON form...  \n",
       "120  Here is the json object with the requested inf...  \n",
       "121  Here is the analyzed article in JSON format:\\n...  \n",
       "122  Here is the JSON output:\\n\\n```\\n{\\n  \"title\":...  \n",
       "\n",
       "[123 rows x 6 columns]"
      ],
      "text/html": [
       "<div>\n",
       "<style scoped>\n",
       "    .dataframe tbody tr th:only-of-type {\n",
       "        vertical-align: middle;\n",
       "    }\n",
       "\n",
       "    .dataframe tbody tr th {\n",
       "        vertical-align: top;\n",
       "    }\n",
       "\n",
       "    .dataframe thead th {\n",
       "        text-align: right;\n",
       "    }\n",
       "</style>\n",
       "<table border=\"1\" class=\"dataframe\">\n",
       "  <thead>\n",
       "    <tr style=\"text-align: right;\">\n",
       "      <th></th>\n",
       "      <th>title</th>\n",
       "      <th>source</th>\n",
       "      <th>link</th>\n",
       "      <th>date</th>\n",
       "      <th>text</th>\n",
       "      <th>topics_person</th>\n",
       "    </tr>\n",
       "  </thead>\n",
       "  <tbody>\n",
       "    <tr>\n",
       "      <th>0</th>\n",
       "      <td>Votare per l’Europa, compito difficile ma dove...</td>\n",
       "      <td>Avvenire</td>\n",
       "      <td>https://www.avvenire.it/rubriche/pagine/votare...</td>\n",
       "      <td>05/21/2024, 05:43 AM, +0000 UTC</td>\n",
       "      <td>Votare per l’Europa, compito difficile ma dove...</td>\n",
       "      <td>Here is the JSON output with the required info...</td>\n",
       "    </tr>\n",
       "    <tr>\n",
       "      <th>1</th>\n",
       "      <td>Alle Europee “cederemo” il voto ai nostri figl...</td>\n",
       "      <td>Avvenire</td>\n",
       "      <td>https://www.avvenire.it/attualita/pagine/cedia...</td>\n",
       "      <td>05/24/2024, 08:03 PM, +0000 UTC</td>\n",
       "      <td>Alle Europee “cederemo” il voto ai nostri figl...</td>\n",
       "      <td>Here is the JSON output:\\n\\n```\\n{\\n    \"title...</td>\n",
       "    </tr>\n",
       "    <tr>\n",
       "      <th>2</th>\n",
       "      <td>Zuppi su premierato, autonomia differenziata, ...</td>\n",
       "      <td>Avvenire</td>\n",
       "      <td>https://www.avvenire.it/chiesa/pagine/conferen...</td>\n",
       "      <td>05/23/2024, 02:06 PM, +0000 UTC</td>\n",
       "      <td>Zuppi su premierato, autonomia differenziata, ...</td>\n",
       "      <td>Here is the JSON output:\\n\\n```\\n{\\n  \"title\":...</td>\n",
       "    </tr>\n",
       "    <tr>\n",
       "      <th>3</th>\n",
       "      <td>Meloni: \"Il referendum non passa? Chissene imp...</td>\n",
       "      <td>Avvenire</td>\n",
       "      <td>https://www.avvenire.it/attualita/pagine/premi...</td>\n",
       "      <td>05/27/2024, 09:50 AM, +0000 UTC</td>\n",
       "      <td>Meloni: «Il referendum non passa? Chissene imp...</td>\n",
       "      <td>Here is the analyzed output in JSON format:\\n\\...</td>\n",
       "    </tr>\n",
       "    <tr>\n",
       "      <th>4</th>\n",
       "      <td>Un nuovo spettro si aggira per l'Europa: il «n...</td>\n",
       "      <td>Avvenire</td>\n",
       "      <td>https://www.avvenire.it/attualita/pagine/un-nu...</td>\n",
       "      <td>04/02/2024, 07:00 AM, +0000 UTC</td>\n",
       "      <td>Un nuovo spettro si aggira per l'Europa: il «n...</td>\n",
       "      <td>Here is the JSON output with the requested inf...</td>\n",
       "    </tr>\n",
       "    <tr>\n",
       "      <th>...</th>\n",
       "      <td>...</td>\n",
       "      <td>...</td>\n",
       "      <td>...</td>\n",
       "      <td>...</td>\n",
       "      <td>...</td>\n",
       "      <td>...</td>\n",
       "    </tr>\n",
       "    <tr>\n",
       "      <th>118</th>\n",
       "      <td>Il Constitutional Circus sceglie Riace per lan...</td>\n",
       "      <td>Avvenire</td>\n",
       "      <td>https://www.avvenire.it/attualita/pagine/il-co...</td>\n",
       "      <td>04/30/2024, 07:00 AM, +0000 UTC</td>\n",
       "      <td>Il Constitutional Circus sceglie Riace per lan...</td>\n",
       "      <td>Here is the JSON output:\\n\\n```\\n{\\n    \"title...</td>\n",
       "    </tr>\n",
       "    <tr>\n",
       "      <th>119</th>\n",
       "      <td>Soglia al 3%, un gioco del cerino in cui solta...</td>\n",
       "      <td>Avvenire</td>\n",
       "      <td>https://www.avvenire.it/attualita/pagine/un-gi...</td>\n",
       "      <td>09/06/2023, 07:00 AM, +0000 UTC</td>\n",
       "      <td>Soglia al 3%, un gioco del cerino in cui solta...</td>\n",
       "      <td>Here is the analyzed news article in JSON form...</td>\n",
       "    </tr>\n",
       "    <tr>\n",
       "      <th>120</th>\n",
       "      <td>Accoglienza e asilo, accordo fatto in Europa: ...</td>\n",
       "      <td>Avvenire</td>\n",
       "      <td>https://www.avvenire.it/attualita/pagine/patto...</td>\n",
       "      <td>12/20/2023, 08:00 AM, +0000 UTC</td>\n",
       "      <td>Accoglienza e asilo, accordo fatto in Europa: ...</td>\n",
       "      <td>Here is the json object with the requested inf...</td>\n",
       "    </tr>\n",
       "    <tr>\n",
       "      <th>121</th>\n",
       "      <td>La via di Tommaso anche oggi: né appiattirsi n...</td>\n",
       "      <td>Avvenire</td>\n",
       "      <td>https://www.avvenire.it/opinioni/pagine/nell-o...</td>\n",
       "      <td>05/04/2024, 07:00 AM, +0000 UTC</td>\n",
       "      <td>La via di Tommaso anche oggi: né appiattirsi n...</td>\n",
       "      <td>Here is the analyzed article in JSON format:\\n...</td>\n",
       "    </tr>\n",
       "    <tr>\n",
       "      <th>122</th>\n",
       "      <td>Regionali-Europee, muro contro muro Salvini-Me...</td>\n",
       "      <td>Avvenire</td>\n",
       "      <td>https://www.avvenire.it/attualita/pagine/salvi...</td>\n",
       "      <td>01/11/2024, 08:00 AM, +0000 UTC</td>\n",
       "      <td>Regionali-Europee, muro contro muro Salvini-Me...</td>\n",
       "      <td>Here is the JSON output:\\n\\n```\\n{\\n  \"title\":...</td>\n",
       "    </tr>\n",
       "  </tbody>\n",
       "</table>\n",
       "<p>123 rows × 6 columns</p>\n",
       "</div>"
      ]
     },
     "execution_count": 18,
     "metadata": {},
     "output_type": "execute_result"
    }
   ],
   "execution_count": 18
  },
  {
   "metadata": {
    "jupyter": {
     "is_executing": true
    }
   },
   "cell_type": "code",
   "source": "pd.read_csv('/Users/filippopacinelli/news-mapping-eu-elections/datasets/elezioni_europee_processed.csv')",
   "outputs": [],
   "execution_count": null
  },
  {
   "metadata": {},
   "cell_type": "code",
   "outputs": [],
   "execution_count": null,
   "source": ""
  }
 ],
 "metadata": {
  "kernelspec": {
   "display_name": "Python 3",
   "language": "python",
   "name": "python3"
  },
  "language_info": {
   "codemirror_mode": {
    "name": "ipython",
    "version": 2
   },
   "file_extension": ".py",
   "mimetype": "text/x-python",
   "name": "python",
   "nbconvert_exporter": "python",
   "pygments_lexer": "ipython2",
   "version": "2.7.6"
  }
 },
 "nbformat": 4,
 "nbformat_minor": 0
}
